{
 "cells": [
  {
   "cell_type": "markdown",
   "metadata": {},
   "source": [
    "## Modules to be installed in conda\n",
    "\n",
    "1. ``networkx`` \n",
    "2. ``matplotlib``\n",
    "\n",
    "Command line:\n",
    "\n",
    "        conda install matplotlib networkx\n",
    "\n"
   ]
  },
  {
   "cell_type": "code",
   "execution_count": 1,
   "metadata": {},
   "outputs": [],
   "source": [
    "# %conda install matplotlib"
   ]
  },
  {
   "cell_type": "code",
   "execution_count": 2,
   "metadata": {},
   "outputs": [],
   "source": [
    "import networkx as nx\n",
    "import gurobipy as gb\n",
    "import matplotlib.pyplot as plt\n",
    "import numpy as np"
   ]
  },
  {
   "cell_type": "code",
   "execution_count": 3,
   "metadata": {},
   "outputs": [
    {
     "data": {
      "text/html": [
       "<style>.container { width:95% !important; }</style>"
      ],
      "text/plain": [
       "<IPython.core.display.HTML object>"
      ]
     },
     "metadata": {},
     "output_type": "display_data"
    }
   ],
   "source": [
    "from IPython.display import display, HTML\n",
    "display(HTML(\"<style>.container { width:95% !important; }</style>\"))\n"
   ]
  },
  {
   "cell_type": "markdown",
   "metadata": {},
   "source": [
    "## Campus map graph"
   ]
  },
  {
   "cell_type": "code",
   "execution_count": 4,
   "metadata": {},
   "outputs": [],
   "source": [
    "buildings = ['Delta6',\n",
    "             'Hospital',\n",
    "             'Block11A',\n",
    "             'Block11E',\n",
    "             'Coppito2',\n",
    "             'Coppito1',\n",
    "             'Block0',\n",
    "             'StudentCenter',\n",
    "             'Lab',\n",
    "             'ComputerCenter']"
   ]
  },
  {
   "cell_type": "code",
   "execution_count": 5,
   "metadata": {},
   "outputs": [],
   "source": [
    "G = nx.Graph()"
   ]
  },
  {
   "cell_type": "code",
   "execution_count": 6,
   "metadata": {},
   "outputs": [
    {
     "data": {
      "text/plain": [
       "NodeView(())"
      ]
     },
     "execution_count": 6,
     "metadata": {},
     "output_type": "execute_result"
    }
   ],
   "source": [
    "G.nodes()"
   ]
  },
  {
   "cell_type": "code",
   "execution_count": 7,
   "metadata": {},
   "outputs": [
    {
     "data": {
      "text/plain": [
       "EdgeView([])"
      ]
     },
     "execution_count": 7,
     "metadata": {},
     "output_type": "execute_result"
    }
   ],
   "source": [
    "G.edges()"
   ]
  },
  {
   "cell_type": "code",
   "execution_count": 8,
   "metadata": {},
   "outputs": [],
   "source": [
    "G.add_nodes_from(buildings)"
   ]
  },
  {
   "cell_type": "code",
   "execution_count": 9,
   "metadata": {
    "scrolled": true
   },
   "outputs": [
    {
     "data": {
      "text/plain": [
       "NodeView(('Delta6', 'Hospital', 'Block11A', 'Block11E', 'Coppito2', 'Coppito1', 'Block0', 'StudentCenter', 'Lab', 'ComputerCenter'))"
      ]
     },
     "execution_count": 9,
     "metadata": {},
     "output_type": "execute_result"
    }
   ],
   "source": [
    "G.nodes"
   ]
  },
  {
   "cell_type": "code",
   "execution_count": 10,
   "metadata": {},
   "outputs": [
    {
     "data": {
      "text/plain": [
       "EdgeView([])"
      ]
     },
     "execution_count": 10,
     "metadata": {},
     "output_type": "execute_result"
    }
   ],
   "source": [
    "G.edges"
   ]
  },
  {
   "cell_type": "code",
   "execution_count": 11,
   "metadata": {},
   "outputs": [],
   "source": [
    "G.add_edge('Delta6','Hospital')\n",
    "G.add_edge('Delta6','Block11A')"
   ]
  },
  {
   "cell_type": "code",
   "execution_count": 12,
   "metadata": {},
   "outputs": [
    {
     "data": {
      "text/plain": [
       "EdgeView([('Delta6', 'Hospital'), ('Delta6', 'Block11A')])"
      ]
     },
     "execution_count": 12,
     "metadata": {},
     "output_type": "execute_result"
    }
   ],
   "source": [
    "G.edges"
   ]
  },
  {
   "cell_type": "code",
   "execution_count": 13,
   "metadata": {},
   "outputs": [
    {
     "name": "stdout",
     "output_type": "stream",
     "text": [
      "15\n"
     ]
    }
   ],
   "source": [
    "G.add_edge('Block11A','Hospital')\n",
    "G.add_edge('Block11E','Hospital')\n",
    "G.add_edge('Block11E','Coppito2')\n",
    "G.add_edge('Coppito1','Coppito2')\n",
    "G.add_edge('StudentCenter','Coppito2')\n",
    "G.add_edge('Coppito1','StudentCenter')\n",
    "G.add_edge('StudentCenter','Lab')\n",
    "G.add_edge('StudentCenter','Block0')\n",
    "G.add_edge('Lab','ComputerCenter')\n",
    "G.add_edge('ComputerCenter','StudentCenter')\n",
    "G.add_edge('Coppito1','Block0')\n",
    "G.add_edge('Block0','Lab')\n",
    "G.add_edge('Lab','ComputerCenter')\n",
    "G.add_edge('ComputerCenter','Block0')\n",
    "\n",
    "print (G.number_of_edges())"
   ]
  },
  {
   "cell_type": "code",
   "execution_count": 14,
   "metadata": {},
   "outputs": [
    {
     "data": {
      "text/plain": [
       "NodeView(('Delta6', 'Hospital', 'Block11A', 'Block11E', 'Coppito2', 'Coppito1', 'Block0', 'StudentCenter', 'Lab', 'ComputerCenter'))"
      ]
     },
     "execution_count": 14,
     "metadata": {},
     "output_type": "execute_result"
    }
   ],
   "source": [
    "G.nodes"
   ]
  },
  {
   "cell_type": "code",
   "execution_count": 15,
   "metadata": {},
   "outputs": [
    {
     "data": {
      "text/plain": [
       "EdgeView([('Delta6', 'Hospital'), ('Delta6', 'Block11A'), ('Hospital', 'Block11A'), ('Hospital', 'Block11E'), ('Block11E', 'Coppito2'), ('Coppito2', 'Coppito1'), ('Coppito2', 'StudentCenter'), ('Coppito1', 'StudentCenter'), ('Coppito1', 'Block0'), ('Block0', 'StudentCenter'), ('Block0', 'Lab'), ('Block0', 'ComputerCenter'), ('StudentCenter', 'Lab'), ('StudentCenter', 'ComputerCenter'), ('Lab', 'ComputerCenter')])"
      ]
     },
     "execution_count": 15,
     "metadata": {},
     "output_type": "execute_result"
    }
   ],
   "source": [
    "G.edges"
   ]
  },
  {
   "cell_type": "code",
   "execution_count": 16,
   "metadata": {},
   "outputs": [],
   "source": [
    "%matplotlib inline"
   ]
  },
  {
   "cell_type": "code",
   "execution_count": 17,
   "metadata": {},
   "outputs": [],
   "source": [
    "pos = nx.spring_layout(G, k=1, seed=10)"
   ]
  },
  {
   "cell_type": "code",
   "execution_count": 18,
   "metadata": {},
   "outputs": [
    {
     "data": {
      "text/plain": [
       "{'Delta6': array([-0.07509172, -1.        ]),\n",
       " 'Hospital': array([-0.28234298, -0.52647204]),\n",
       " 'Block11A': array([-0.35528857, -0.94072138]),\n",
       " 'Block11E': array([-0.58986166, -0.11435901]),\n",
       " 'Coppito2': array([-0.32836244,  0.34275659]),\n",
       " 'Coppito1': array([-0.08210325,  0.65035294]),\n",
       " 'Block0': array([0.27248336, 0.29336027]),\n",
       " 'StudentCenter': array([0.2187272 , 0.53530193]),\n",
       " 'Lab': array([0.58779835, 0.20640544]),\n",
       " 'ComputerCenter': array([0.63404172, 0.55337525])}"
      ]
     },
     "execution_count": 18,
     "metadata": {},
     "output_type": "execute_result"
    }
   ],
   "source": [
    "pos"
   ]
  },
  {
   "cell_type": "code",
   "execution_count": 19,
   "metadata": {},
   "outputs": [
    {
     "data": {
      "image/png": "[encoded data removed]",
      "text/plain": [
       "<Figure size 1000x1000 with 1 Axes>"
      ]
     },
     "metadata": {},
     "output_type": "display_data"
    }
   ],
   "source": [
    "fig, ax = plt.subplots(1, 1, figsize=(10,10))\n",
    "\n",
    "nx.draw(G,\n",
    "        pos,\n",
    "        ax,\n",
    "        node_color='#A0CBE2',\n",
    "        width=1,\n",
    "        node_size=1500,\n",
    "        with_labels=True,\n",
    "        font_size=9,\n",
    "        font_color='k')\n",
    "\n",
    "plt.show()\n"
   ]
  },
  {
   "cell_type": "code",
   "execution_count": 20,
   "metadata": {},
   "outputs": [
    {
     "data": {
      "text/plain": [
       "['Hospital', 'Block11A']"
      ]
     },
     "execution_count": 20,
     "metadata": {},
     "output_type": "execute_result"
    }
   ],
   "source": [
    "# list neighbors to the node delta\n",
    "list(G.neighbors('Delta6'))"
   ]
  },
  {
   "cell_type": "code",
   "execution_count": 21,
   "metadata": {},
   "outputs": [
    {
     "data": {
      "text/plain": [
       "NodeView(('Delta6', 'Hospital', 'Block11A', 'Block11E', 'Coppito2', 'Coppito1', 'Block0', 'StudentCenter', 'Lab', 'ComputerCenter'))"
      ]
     },
     "execution_count": 21,
     "metadata": {},
     "output_type": "execute_result"
    }
   ],
   "source": [
    "G.nodes()"
   ]
  },
  {
   "cell_type": "code",
   "execution_count": 22,
   "metadata": {},
   "outputs": [
    {
     "data": {
      "text/plain": [
       "{'Delta6': ['Hospital', 'Block11A', 'Delta6'],\n",
       " 'Hospital': ['Delta6', 'Block11A', 'Block11E', 'Hospital'],\n",
       " 'Block11A': ['Delta6', 'Hospital', 'Block11A'],\n",
       " 'Block11E': ['Hospital', 'Coppito2', 'Block11E'],\n",
       " 'Coppito2': ['Block11E', 'Coppito1', 'StudentCenter', 'Coppito2'],\n",
       " 'Coppito1': ['Coppito2', 'StudentCenter', 'Block0', 'Coppito1'],\n",
       " 'Block0': ['StudentCenter', 'Coppito1', 'Lab', 'ComputerCenter', 'Block0'],\n",
       " 'StudentCenter': ['Coppito2',\n",
       "  'Coppito1',\n",
       "  'Lab',\n",
       "  'Block0',\n",
       "  'ComputerCenter',\n",
       "  'StudentCenter'],\n",
       " 'Lab': ['StudentCenter', 'ComputerCenter', 'Block0', 'Lab'],\n",
       " 'ComputerCenter': ['Lab', 'StudentCenter', 'Block0', 'ComputerCenter']}"
      ]
     },
     "execution_count": 22,
     "metadata": {},
     "output_type": "execute_result"
    }
   ],
   "source": [
    "subsets = dict()\n",
    "\n",
    "for i in G.nodes():\n",
    "    coverednodes = list(G.neighbors(i)) + [i] # coverednodes is the neighbors of the nodes in the graph + the node itself\n",
    "    subsets[i] = coverednodes\n",
    "\n",
    "subsets"
   ]
  },
  {
   "cell_type": "code",
   "execution_count": 23,
   "metadata": {},
   "outputs": [
    {
     "data": {
      "text/plain": [
       "{'Delta6': ['Hospital', 'Block11A', 'Delta6'],\n",
       " 'Hospital': ['Delta6', 'Block11A', 'Block11E', 'Hospital'],\n",
       " 'Block11A': ['Delta6', 'Hospital', 'Block11A'],\n",
       " 'Block11E': ['Hospital', 'Coppito2', 'Block11E'],\n",
       " 'Coppito2': ['Block11E', 'Coppito1', 'StudentCenter', 'Coppito2'],\n",
       " 'Coppito1': ['Coppito2', 'StudentCenter', 'Block0', 'Coppito1'],\n",
       " 'Block0': ['StudentCenter', 'Coppito1', 'Lab', 'ComputerCenter', 'Block0'],\n",
       " 'StudentCenter': ['Coppito2',\n",
       "  'Coppito1',\n",
       "  'Lab',\n",
       "  'Block0',\n",
       "  'ComputerCenter',\n",
       "  'StudentCenter'],\n",
       " 'Lab': ['StudentCenter', 'ComputerCenter', 'Block0', 'Lab'],\n",
       " 'ComputerCenter': ['Lab', 'StudentCenter', 'Block0', 'ComputerCenter']}"
      ]
     },
     "execution_count": 23,
     "metadata": {},
     "output_type": "execute_result"
    }
   ],
   "source": [
    "subsets = dict()\n",
    "\n",
    "subsets = {i : list(G.neighbors(i)) + [i] for i in G.nodes()}\n",
    "\n",
    "subsets"
   ]
  },
  {
   "cell_type": "markdown",
   "metadata": {},
   "source": [
    "\\begin{array}{c|ccccccccc}\n",
    "  & \\texttt{Delta6} & \\texttt{Hospital} & \\texttt{Block11A} & \\texttt{Block11E} & \\texttt{Coppito2} \n",
    "  & \\texttt{Coppito1} & \\texttt{Block0} & \\texttt{Lab} & \\texttt{ComputerCenter} & \\texttt{StudentCenter}\\\\\n",
    "  \\hline\n",
    "\\texttt{Delta6}   & 1 & 1 & 1 & 0 & 0 & 0 & 0 & 0 & 0 & 0 \\\\\n",
    "\\texttt{Hospital} & 1 & 1 & 1 & 1 & 0 & 0 & 0 & 0 & 0 & 0 \\\\\n",
    "\\texttt{Block11A} & 1 & 1 & 1 & 0 & 0 & 0 & 0 & 0 & 0 & 0 \\\\\n",
    "\\texttt{Block11E} & 0 & 1 & 1 & 1 & 0 & 0 & 0 & 0 & 0 & 0 \\\\ \n",
    "\\texttt{Coppito2} & 0 & 0 & 0 & 1 & 1 & 1 & 1 & 0 & 0 & 1\\\\\n",
    "\\texttt{Coppito1} & 0 & 0 & 0 & 0 & 1 & 1 & 1 & 0 & 0 & 1\\\\\n",
    "\\texttt{Block0}   & 0 & 0 & 0 & 0 & 1 & 1 & 1 & 1 & 1 & 1\\\\\n",
    "\\texttt{Lab}      & 0 & 0 & 0 & 0 & 0 & 0 & 1 & 1 & 1 & 1\\\\\n",
    "\\texttt{ComputerCenter} & 0 & 0 & 0 & 0 & 0 & 0 & 1 & 1 & 1 & 1\\\\\n",
    "\\texttt{StudentCenter} & 0 & 0 & 0 & 0 & 1 & 1 & 1 & 1 & 1 & 1\\\\\n",
    "\\end{array}}"
   ]
  },
  {
   "cell_type": "markdown",
   "metadata": {},
   "source": [
    "## Decision variables\n",
    "\n",
    "\n",
    "\n",
    "$$x_i = \\begin{cases} 1 \\text{ if subset } i \\text { is selected (if the facility is opened on building $i$) }\\\\ 0 \\text{ otherwise.}  \\end{cases}$$"
   ]
  },
  {
   "cell_type": "code",
   "execution_count": 24,
   "metadata": {},
   "outputs": [
    {
     "data": {
      "text/plain": [
       "['Delta6',\n",
       " 'Hospital',\n",
       " 'Block11A',\n",
       " 'Block11E',\n",
       " 'Coppito2',\n",
       " 'Coppito1',\n",
       " 'Block0',\n",
       " 'StudentCenter',\n",
       " 'Lab',\n",
       " 'ComputerCenter']"
      ]
     },
     "execution_count": 24,
     "metadata": {},
     "output_type": "execute_result"
    }
   ],
   "source": [
    "buildings"
   ]
  },
  {
   "cell_type": "code",
   "execution_count": 25,
   "metadata": {},
   "outputs": [
    {
     "name": "stdout",
     "output_type": "stream",
     "text": [
      "Set parameter Username\n",
      "Set parameter LicenseID to value 2627747\n",
      "Academic license - for non-commercial use only - expires 2026-02-25\n"
     ]
    },
    {
     "data": {
      "text/plain": [
       "{'Delta6': <gurobi.Var x[Delta6]>,\n",
       " 'Hospital': <gurobi.Var x[Hospital]>,\n",
       " 'Block11A': <gurobi.Var x[Block11A]>,\n",
       " 'Block11E': <gurobi.Var x[Block11E]>,\n",
       " 'Coppito2': <gurobi.Var x[Coppito2]>,\n",
       " 'Coppito1': <gurobi.Var x[Coppito1]>,\n",
       " 'Block0': <gurobi.Var x[Block0]>,\n",
       " 'StudentCenter': <gurobi.Var x[StudentCenter]>,\n",
       " 'Lab': <gurobi.Var x[Lab]>,\n",
       " 'ComputerCenter': <gurobi.Var x[ComputerCenter]>}"
      ]
     },
     "execution_count": 25,
     "metadata": {},
     "output_type": "execute_result"
    }
   ],
   "source": [
    "setcovering = gb.Model()\n",
    "\n",
    "x = setcovering.addVars(buildings, \n",
    "                        vtype = gb.GRB.BINARY,\n",
    "                        name = 'x')\n",
    "\n",
    "setcovering.update()\n",
    "\n",
    "x"
   ]
  },
  {
   "cell_type": "code",
   "execution_count": 26,
   "metadata": {},
   "outputs": [
    {
     "name": "stdout",
     "output_type": "stream",
     "text": [
      "Minimize\n",
      "  0.0\n",
      "Subject To\n",
      "Binaries\n",
      "['x[Delta6]', 'x[Hospital]', 'x[Block11A]', 'x[Block11E]', 'x[Coppito2]',\n",
      " 'x[Coppito1]', 'x[Block0]', 'x[StudentCenter]', 'x[Lab]', 'x[ComputerCenter]']\n"
     ]
    },
    {
     "name": "stderr",
     "output_type": "stream",
     "text": [
      "C:\\Users\\Luke\\AppData\\Local\\Temp\\ipykernel_177616\\2561735812.py:1: DeprecationWarning: Model.display() is deprecated\n",
      "  setcovering.display()\n"
     ]
    }
   ],
   "source": [
    "setcovering.display()"
   ]
  },
  {
   "cell_type": "markdown",
   "metadata": {},
   "source": [
    "## Objective function"
   ]
  },
  {
   "cell_type": "code",
   "execution_count": 27,
   "metadata": {},
   "outputs": [
    {
     "data": {
      "text/plain": [
       "<gurobi.LinExpr: x[Delta6] + x[Hospital] + x[Block11A] + x[Block11E] + x[Coppito2] + x[Coppito1] + x[Block0] + x[StudentCenter] + x[Lab] + x[ComputerCenter]>"
      ]
     },
     "execution_count": 27,
     "metadata": {},
     "output_type": "execute_result"
    }
   ],
   "source": [
    "x.sum()"
   ]
  },
  {
   "cell_type": "code",
   "execution_count": 28,
   "metadata": {},
   "outputs": [
    {
     "name": "stdout",
     "output_type": "stream",
     "text": [
      "Minimize\n",
      "x[Delta6] + x[Hospital] + x[Block11A] + x[Block11E] + x[Coppito2] + x[Coppito1]\n",
      "+ x[Block0] + x[StudentCenter] + x[Lab] + x[ComputerCenter]\n",
      "Subject To\n",
      "Binaries\n",
      "['x[Delta6]', 'x[Hospital]', 'x[Block11A]', 'x[Block11E]', 'x[Coppito2]',\n",
      " 'x[Coppito1]', 'x[Block0]', 'x[StudentCenter]', 'x[Lab]', 'x[ComputerCenter]']\n"
     ]
    },
    {
     "name": "stderr",
     "output_type": "stream",
     "text": [
      "C:\\Users\\Luke\\AppData\\Local\\Temp\\ipykernel_177616\\1761826035.py:5: DeprecationWarning: Model.display() is deprecated\n",
      "  setcovering.display()\n"
     ]
    }
   ],
   "source": [
    "setcovering.setObjective(x.sum(), gb.GRB.MINIMIZE)\n",
    "\n",
    "setcovering.update()\n",
    "\n",
    "setcovering.display()"
   ]
  },
  {
   "cell_type": "code",
   "execution_count": 29,
   "metadata": {},
   "outputs": [
    {
     "data": {
      "text/plain": [
       "['Hospital', 'Block11A', 'Delta6']"
      ]
     },
     "execution_count": 29,
     "metadata": {},
     "output_type": "execute_result"
    }
   ],
   "source": [
    "subsets['Delta6']"
   ]
  },
  {
   "cell_type": "code",
   "execution_count": 30,
   "metadata": {},
   "outputs": [
    {
     "data": {
      "text/plain": [
       "<gurobi.LinExpr: x[Hospital] + x[Block11A] + x[Delta6]>"
      ]
     },
     "execution_count": 30,
     "metadata": {},
     "output_type": "execute_result"
    }
   ],
   "source": [
    "x.sum(subsets['Delta6'])"
   ]
  },
  {
   "cell_type": "code",
   "execution_count": 31,
   "metadata": {},
   "outputs": [
    {
     "data": {
      "text/plain": [
       "{'Delta6': <gurobi.Constr *Awaiting Model Update*>,\n",
       " 'Hospital': <gurobi.Constr *Awaiting Model Update*>,\n",
       " 'Block11A': <gurobi.Constr *Awaiting Model Update*>,\n",
       " 'Block11E': <gurobi.Constr *Awaiting Model Update*>,\n",
       " 'Coppito2': <gurobi.Constr *Awaiting Model Update*>,\n",
       " 'Coppito1': <gurobi.Constr *Awaiting Model Update*>,\n",
       " 'Block0': <gurobi.Constr *Awaiting Model Update*>,\n",
       " 'StudentCenter': <gurobi.Constr *Awaiting Model Update*>,\n",
       " 'Lab': <gurobi.Constr *Awaiting Model Update*>,\n",
       " 'ComputerCenter': <gurobi.Constr *Awaiting Model Update*>}"
      ]
     },
     "execution_count": 31,
     "metadata": {},
     "output_type": "execute_result"
    }
   ],
   "source": [
    "setcovering.addConstrs((x.sum(subsets[j]) >= 1 for j in subsets),\n",
    "                       name='Cover')"
   ]
  },
  {
   "cell_type": "code",
   "execution_count": 32,
   "metadata": {},
   "outputs": [],
   "source": [
    "setcovering.update()"
   ]
  },
  {
   "cell_type": "code",
   "execution_count": 33,
   "metadata": {},
   "outputs": [
    {
     "name": "stdout",
     "output_type": "stream",
     "text": [
      "Minimize\n",
      "x[Delta6] + x[Hospital] + x[Block11A] + x[Block11E] + x[Coppito2] + x[Coppito1]\n",
      "+ x[Block0] + x[StudentCenter] + x[Lab] + x[ComputerCenter]\n",
      "Subject To\n",
      "  Cover[Delta6]: x[Delta6] + x[Hospital] + x[Block11A] >= 1\n",
      "  Cover[Hospital]: x[Delta6] + x[Hospital] + x[Block11A] + x[Block11E] >= 1\n",
      "  Cover[Block11A]: x[Delta6] + x[Hospital] + x[Block11A] >= 1\n",
      "  Cover[Block11E]: x[Hospital] + x[Block11E] + x[Coppito2] >= 1\n",
      "  Cover[Coppito2]: x[Block11E] + x[Coppito2] + x[Coppito1] + x[StudentCenter] >= 1\n",
      "  Cover[Coppito1]: x[Coppito2] + x[Coppito1] + x[Block0] + x[StudentCenter] >= 1\n",
      "Cover[Block0]: x[Coppito1] + x[Block0] + x[StudentCenter] + x[Lab] + x[ComputerCenter]\n",
      " >= 1\n",
      "Cover[StudentCenter]: x[Coppito2] + x[Coppito1] + x[Block0] + x[StudentCenter] + x[Lab]\n"
     ]
    },
    {
     "name": "stderr",
     "output_type": "stream",
     "text": [
      "C:\\Users\\Luke\\AppData\\Local\\Temp\\ipykernel_177616\\2561735812.py:1: DeprecationWarning: Model.display() is deprecated\n",
      "  setcovering.display()\n"
     ]
    },
    {
     "name": "stdout",
     "output_type": "stream",
     "text": [
      " + x[ComputerCenter] >= 1\n",
      "  Cover[Lab]: x[Block0] + x[StudentCenter] + x[Lab] + x[ComputerCenter] >= 1\n",
      "  Cover[ComputerCenter]: x[Block0] + x[StudentCenter] + x[Lab] + x[ComputerCenter] >= 1\n",
      "Binaries\n",
      "['x[Delta6]', 'x[Hospital]', 'x[Block11A]', 'x[Block11E]', 'x[Coppito2]',\n",
      " 'x[Coppito1]', 'x[Block0]', 'x[StudentCenter]', 'x[Lab]', 'x[ComputerCenter]']\n"
     ]
    }
   ],
   "source": [
    "setcovering.display()"
   ]
  },
  {
   "cell_type": "code",
   "execution_count": 34,
   "metadata": {},
   "outputs": [],
   "source": [
    "setcovering.write('setcov.lp')"
   ]
  },
  {
   "cell_type": "code",
   "execution_count": 35,
   "metadata": {},
   "outputs": [
    {
     "name": "stdout",
     "output_type": "stream",
     "text": [
      "Gurobi Optimizer version 12.0.1 build v12.0.1rc0 (win64 - Windows 10.0 (19045.2))\n",
      "\n",
      "CPU model: Intel(R) Core(TM) i5-6300U CPU @ 2.40GHz, instruction set [SSE2|AVX|AVX2]\n",
      "Thread count: 2 physical cores, 4 logical processors, using up to 4 threads\n",
      "\n",
      "Optimize a model with 10 rows, 10 columns and 40 nonzeros\n",
      "Model fingerprint: 0xb7ebd306\n",
      "Variable types: 0 continuous, 10 integer (10 binary)\n",
      "Coefficient statistics:\n",
      "  Matrix range     [1e+00, 1e+00]\n",
      "  Objective range  [1e+00, 1e+00]\n",
      "  Bounds range     [1e+00, 1e+00]\n",
      "  RHS range        [1e+00, 1e+00]\n",
      "Found heuristic solution: objective 3.0000000\n",
      "Presolve removed 10 rows and 10 columns\n",
      "Presolve time: 0.01s\n",
      "Presolve: All rows and columns removed\n",
      "\n",
      "Explored 0 nodes (0 simplex iterations) in 0.04 seconds (0.00 work units)\n",
      "Thread count was 1 (of 4 available processors)\n",
      "\n",
      "Solution count 2: 2 3 \n",
      "\n",
      "Optimal solution found (tolerance 1.00e-04)\n",
      "Best objective 2.000000000000e+00, best bound 2.000000000000e+00, gap 0.0000%\n"
     ]
    }
   ],
   "source": [
    "setcovering.optimize()"
   ]
  },
  {
   "cell_type": "code",
   "execution_count": 36,
   "metadata": {},
   "outputs": [
    {
     "data": {
      "text/plain": [
       "1.0"
      ]
     },
     "execution_count": 36,
     "metadata": {},
     "output_type": "execute_result"
    }
   ],
   "source": [
    "x['StudentCenter'].x"
   ]
  },
  {
   "cell_type": "code",
   "execution_count": 37,
   "metadata": {},
   "outputs": [
    {
     "name": "stdout",
     "output_type": "stream",
     "text": [
      "Number of activated facilities: 2\n",
      "Activated facilities:\n",
      "Hospital\n",
      "StudentCenter\n"
     ]
    }
   ],
   "source": [
    "\n",
    "print('Number of activated facilities: %g' % setcovering.objVal)\n",
    "print('Activated facilities:')\n",
    "\n",
    "activated = list()\n",
    "\n",
    "for name, var in x.items():\n",
    "    if var.x > 0.1:\n",
    "        activated.append(name)\n",
    "        print (name)"
   ]
  },
  {
   "cell_type": "code",
   "execution_count": 38,
   "metadata": {},
   "outputs": [
    {
     "data": {
      "image/png": "[encoded data removed]",
      "text/plain": [
       "<Figure size 1000x1000 with 1 Axes>"
      ]
     },
     "metadata": {},
     "output_type": "display_data"
    }
   ],
   "source": [
    "fig, ax = plt.subplots(1, 1, figsize=(10,10))\n",
    "\n",
    "\n",
    "nx.draw(G,\n",
    "        pos,\n",
    "        ax,\n",
    "        node_color='#A0CBE2',\n",
    "        width=1,\n",
    "        node_size=1500,\n",
    "        with_labels=True,\n",
    "        font_size=9,\n",
    "        font_color='k')\n",
    "\n",
    "\n",
    "nx.draw_networkx_nodes(G, pos, nodelist=activated, node_size=1500, node_color ='r')\n",
    "\n",
    "plt.show()"
   ]
  },
  {
   "cell_type": "code",
   "execution_count": null,
   "metadata": {},
   "outputs": [],
   "source": []
  }
 ],
 "metadata": {
  "kernelspec": {
   "display_name": "Python 3 (ipykernel)",
   "language": "python",
   "name": "python3"
  },
  "language_info": {
   "codemirror_mode": {
    "name": "ipython",
    "version": 3
   },
   "file_extension": ".py",
   "mimetype": "text/x-python",
   "name": "python",
   "nbconvert_exporter": "python",
   "pygments_lexer": "ipython3",
   "version": "3.12.9"
  }
 },
 "nbformat": 4,
 "nbformat_minor": 4
}
