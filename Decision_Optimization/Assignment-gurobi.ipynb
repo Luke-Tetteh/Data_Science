{
 "cells": [
  {
   "cell_type": "code",
   "execution_count": 1,
   "metadata": {},
   "outputs": [],
   "source": [
    "import gurobipy as gb\n",
    "import random"
   ]
  },
  {
   "cell_type": "markdown",
   "metadata": {},
   "source": [
    "There are $n$ people to carry out $n$ jobs.\n",
    "Each person is assigned to carry out exactly one job.\n",
    "There is an estimated cost $c_{ij}$ if person $i$ is assigned to job $j$"
   ]
  },
  {
   "cell_type": "markdown",
   "metadata": {},
   "source": [
    "## Mathematical model\n",
    "\n",
    "$$\n",
    "x_{ij} = \\begin{cases} 1 \\text{ person $i$ is assigned to job $j$} \\\\ \n",
    "0 \\text{ otherwise}\n",
    "\\end{cases}\n",
    "$$\n",
    "\n",
    "\n",
    "$$\n",
    "\\min \\sum_{i=1}^n \\sum_{j=1}^n c_{ij} x_{ij}\n",
    "$$\n",
    "$$\n",
    "\\sum_{j=1}^n x_{ij} = 1 \\text{ for } i = 1, \\ldots , n\n",
    "$$\n",
    "$$\n",
    "\\sum_{i=1}^n x_{ij} = 1 \\text{ for } j = 1, \\ldots , n\n",
    "$$\n",
    "$$\n",
    "x_{ij} \\in \\{0,1\\}\n",
    "$$ \n"
   ]
  },
  {
   "cell_type": "markdown",
   "metadata": {},
   "source": [
    "## Instance generation"
   ]
  },
  {
   "cell_type": "code",
   "execution_count": 2,
   "metadata": {},
   "outputs": [],
   "source": [
    "n = 5"
   ]
  },
  {
   "cell_type": "code",
   "execution_count": 3,
   "metadata": {},
   "outputs": [],
   "source": [
    "random.seed(100)\n",
    "\n",
    "c = {(i,j):random.randint(10,100) \n",
    "     for i in range(0, n) for j in range(0, n)}"
   ]
  },
  {
   "cell_type": "code",
   "execution_count": 4,
   "metadata": {},
   "outputs": [
    {
     "data": {
      "text/plain": [
       "{(0, 0): 28,\n",
       " (0, 1): 68,\n",
       " (0, 2): 68,\n",
       " (0, 3): 32,\n",
       " (0, 4): 100,\n",
       " (1, 0): 60,\n",
       " (1, 1): 54,\n",
       " (1, 2): 65,\n",
       " (1, 3): 74,\n",
       " (1, 4): 24,\n",
       " (2, 0): 78,\n",
       " (2, 1): 25,\n",
       " (2, 2): 20,\n",
       " (2, 3): 68,\n",
       " (2, 4): 43,\n",
       " (3, 0): 16,\n",
       " (3, 1): 94,\n",
       " (3, 2): 92,\n",
       " (3, 3): 36,\n",
       " (3, 4): 52,\n",
       " (4, 0): 39,\n",
       " (4, 1): 49,\n",
       " (4, 2): 36,\n",
       " (4, 3): 32,\n",
       " (4, 4): 28}"
      ]
     },
     "execution_count": 4,
     "metadata": {},
     "output_type": "execute_result"
    }
   ],
   "source": [
    "c"
   ]
  },
  {
   "cell_type": "code",
   "execution_count": 5,
   "metadata": {},
   "outputs": [
    {
     "name": "stdout",
     "output_type": "stream",
     "text": [
      "Set parameter Username\n",
      "Set parameter LicenseID to value 2583204\n",
      "Academic license - for non-commercial use only - expires 2025-11-13\n"
     ]
    }
   ],
   "source": [
    "assignment = gb.Model('assignment')"
   ]
  },
  {
   "cell_type": "code",
   "execution_count": 6,
   "metadata": {},
   "outputs": [],
   "source": [
    "x = assignment.addVars(n, \n",
    "                       n, \n",
    "                       vtype=gb.GRB.BINARY,\n",
    "                       obj=c, \n",
    "                       name='x')"
   ]
  },
  {
   "cell_type": "code",
   "execution_count": 7,
   "metadata": {},
   "outputs": [],
   "source": [
    "assignment.update()"
   ]
  },
  {
   "cell_type": "code",
   "execution_count": 8,
   "metadata": {},
   "outputs": [
    {
     "data": {
      "text/plain": [
       "{(0, 0): <gurobi.Var x[0,0]>,\n",
       " (0, 1): <gurobi.Var x[0,1]>,\n",
       " (0, 2): <gurobi.Var x[0,2]>,\n",
       " (0, 3): <gurobi.Var x[0,3]>,\n",
       " (0, 4): <gurobi.Var x[0,4]>,\n",
       " (1, 0): <gurobi.Var x[1,0]>,\n",
       " (1, 1): <gurobi.Var x[1,1]>,\n",
       " (1, 2): <gurobi.Var x[1,2]>,\n",
       " (1, 3): <gurobi.Var x[1,3]>,\n",
       " (1, 4): <gurobi.Var x[1,4]>,\n",
       " (2, 0): <gurobi.Var x[2,0]>,\n",
       " (2, 1): <gurobi.Var x[2,1]>,\n",
       " (2, 2): <gurobi.Var x[2,2]>,\n",
       " (2, 3): <gurobi.Var x[2,3]>,\n",
       " (2, 4): <gurobi.Var x[2,4]>,\n",
       " (3, 0): <gurobi.Var x[3,0]>,\n",
       " (3, 1): <gurobi.Var x[3,1]>,\n",
       " (3, 2): <gurobi.Var x[3,2]>,\n",
       " (3, 3): <gurobi.Var x[3,3]>,\n",
       " (3, 4): <gurobi.Var x[3,4]>,\n",
       " (4, 0): <gurobi.Var x[4,0]>,\n",
       " (4, 1): <gurobi.Var x[4,1]>,\n",
       " (4, 2): <gurobi.Var x[4,2]>,\n",
       " (4, 3): <gurobi.Var x[4,3]>,\n",
       " (4, 4): <gurobi.Var x[4,4]>}"
      ]
     },
     "execution_count": 8,
     "metadata": {},
     "output_type": "execute_result"
    }
   ],
   "source": [
    "x"
   ]
  },
  {
   "cell_type": "code",
   "execution_count": 9,
   "metadata": {},
   "outputs": [
    {
     "data": {
      "text/plain": [
       "<gurobi.LinExpr: 28.0 x[0,0] + 68.0 x[0,1] + 68.0 x[0,2] + 32.0 x[0,3] + 100.0 x[0,4] + 60.0 x[1,0] + 54.0 x[1,1] + 65.0 x[1,2] + 74.0 x[1,3] + 24.0 x[1,4] + 78.0 x[2,0] + 25.0 x[2,1] + 20.0 x[2,2] + 68.0 x[2,3] + 43.0 x[2,4] + 16.0 x[3,0] + 94.0 x[3,1] + 92.0 x[3,2] + 36.0 x[3,3] + 52.0 x[3,4] + 39.0 x[4,0] + 49.0 x[4,1] + 36.0 x[4,2] + 32.0 x[4,3] + 28.0 x[4,4]>"
      ]
     },
     "execution_count": 9,
     "metadata": {},
     "output_type": "execute_result"
    }
   ],
   "source": [
    "assignment.getObjective()"
   ]
  },
  {
   "cell_type": "code",
   "execution_count": 10,
   "metadata": {},
   "outputs": [],
   "source": [
    "assignment.write('assignment.lp')"
   ]
  },
  {
   "cell_type": "code",
   "execution_count": 11,
   "metadata": {},
   "outputs": [
    {
     "data": {
      "text/plain": [
       "<gurobi.LinExpr: x[0,0] + x[1,0] + x[2,0] + x[3,0] + x[4,0]>"
      ]
     },
     "execution_count": 11,
     "metadata": {},
     "output_type": "execute_result"
    }
   ],
   "source": [
    "x.sum('*',0)"
   ]
  },
  {
   "cell_type": "code",
   "execution_count": 12,
   "metadata": {
    "scrolled": true
   },
   "outputs": [
    {
     "data": {
      "text/plain": [
       "{0: <gurobi.Constr *Awaiting Model Update*>,\n",
       " 1: <gurobi.Constr *Awaiting Model Update*>,\n",
       " 2: <gurobi.Constr *Awaiting Model Update*>,\n",
       " 3: <gurobi.Constr *Awaiting Model Update*>,\n",
       " 4: <gurobi.Constr *Awaiting Model Update*>}"
      ]
     },
     "execution_count": 12,
     "metadata": {},
     "output_type": "execute_result"
    }
   ],
   "source": [
    "assignment.addConstrs((x.sum(i,'*') == 1 for i in range(n)), \n",
    "                      name='Person')"
   ]
  },
  {
   "cell_type": "code",
   "execution_count": 13,
   "metadata": {},
   "outputs": [],
   "source": [
    "assignment.update()"
   ]
  },
  {
   "cell_type": "code",
   "execution_count": 14,
   "metadata": {},
   "outputs": [],
   "source": [
    "assignment.write('assignment.lp')"
   ]
  },
  {
   "cell_type": "code",
   "execution_count": 15,
   "metadata": {},
   "outputs": [
    {
     "data": {
      "text/plain": [
       "{0: <gurobi.Constr *Awaiting Model Update*>,\n",
       " 1: <gurobi.Constr *Awaiting Model Update*>,\n",
       " 2: <gurobi.Constr *Awaiting Model Update*>,\n",
       " 3: <gurobi.Constr *Awaiting Model Update*>,\n",
       " 4: <gurobi.Constr *Awaiting Model Update*>}"
      ]
     },
     "execution_count": 15,
     "metadata": {},
     "output_type": "execute_result"
    }
   ],
   "source": [
    "assignment.addConstrs((x.sum('*', j) == 1 for j in range(n)), \n",
    "                      name='Job')"
   ]
  },
  {
   "cell_type": "code",
   "execution_count": 16,
   "metadata": {},
   "outputs": [],
   "source": [
    "assignment.update()\n",
    "assignment.write('assignment.lp')"
   ]
  },
  {
   "cell_type": "code",
   "execution_count": 17,
   "metadata": {},
   "outputs": [
    {
     "name": "stdout",
     "output_type": "stream",
     "text": [
      "Gurobi Optimizer version 12.0.1 build v12.0.1rc0 (mac64[arm] - Darwin 24.3.0 24D70)\n",
      "\n",
      "CPU model: Apple M3 Pro\n",
      "Thread count: 12 physical cores, 12 logical processors, using up to 12 threads\n",
      "\n",
      "Optimize a model with 10 rows, 25 columns and 50 nonzeros\n",
      "Model fingerprint: 0xfb7b8407\n",
      "Variable types: 0 continuous, 25 integer (25 binary)\n",
      "Coefficient statistics:\n",
      "  Matrix range     [1e+00, 1e+00]\n",
      "  Objective range  [2e+01, 1e+02]\n",
      "  Bounds range     [1e+00, 1e+00]\n",
      "  RHS range        [1e+00, 1e+00]\n",
      "Found heuristic solution: objective 286.0000000\n",
      "Presolve time: 0.00s\n",
      "Presolved: 10 rows, 25 columns, 50 nonzeros\n",
      "Variable types: 0 continuous, 25 integer (25 binary)\n",
      "\n",
      "Root relaxation: objective 1.330000e+02, 8 iterations, 0.00 seconds (0.00 work units)\n",
      "\n",
      "    Nodes    |    Current Node    |     Objective Bounds      |     Work\n",
      " Expl Unexpl |  Obj  Depth IntInf | Incumbent    BestBd   Gap | It/Node Time\n",
      "\n",
      "*    0     0               0     133.0000000  133.00000  0.00%     -    0s\n",
      "\n",
      "Explored 1 nodes (8 simplex iterations) in 0.01 seconds (0.00 work units)\n",
      "Thread count was 12 (of 12 available processors)\n",
      "\n",
      "Solution count 2: 133 286 \n",
      "\n",
      "Optimal solution found (tolerance 1.00e-04)\n",
      "Best objective 1.330000000000e+02, best bound 1.330000000000e+02, gap 0.0000%\n"
     ]
    }
   ],
   "source": [
    "assignment.optimize()"
   ]
  },
  {
   "cell_type": "code",
   "execution_count": 18,
   "metadata": {},
   "outputs": [
    {
     "name": "stdout",
     "output_type": "stream",
     "text": [
      "0 3 1.0\n",
      "1 4 1.0\n",
      "2 1 1.0\n",
      "3 0 1.0\n",
      "4 2 1.0\n"
     ]
    }
   ],
   "source": [
    "for i, j in x:\n",
    "    if x[i, j].x > 0.1:\n",
    "        print (i, j, x[i, j].x)"
   ]
  },
  {
   "cell_type": "code",
   "execution_count": null,
   "metadata": {},
   "outputs": [],
   "source": []
  }
 ],
 "metadata": {
  "kernelspec": {
   "display_name": "Python 3 (ipykernel)",
   "language": "python",
   "name": "python3"
  },
  "language_info": {
   "codemirror_mode": {
    "name": "ipython",
    "version": 3
   },
   "file_extension": ".py",
   "mimetype": "text/x-python",
   "name": "python",
   "nbconvert_exporter": "python",
   "pygments_lexer": "ipython3",
   "version": "3.12.9"
  }
 },
 "nbformat": 4,
 "nbformat_minor": 4
}
